{
  "nbformat": 4,
  "nbformat_minor": 0,
  "metadata": {
    "colab": {
      "provenance": [],
      "authorship_tag": "ABX9TyMqiNXic2KSABnqidH9zpVK",
      "include_colab_link": true
    },
    "kernelspec": {
      "name": "python3",
      "display_name": "Python 3"
    },
    "language_info": {
      "name": "python"
    }
  },
  "cells": [
    {
      "cell_type": "markdown",
      "metadata": {
        "id": "view-in-github",
        "colab_type": "text"
      },
      "source": [
        "<a href=\"https://colab.research.google.com/github/sam2005-max/Anti-Risk/blob/main/Risk_model_MVP_telegram_bot.ipynb\" target=\"_parent\"><img src=\"https://colab.research.google.com/assets/colab-badge.svg\" alt=\"Open In Colab\"/></a>"
      ]
    },
    {
      "cell_type": "code",
      "source": [
        "!pip install telebot"
      ],
      "metadata": {
        "colab": {
          "base_uri": "https://localhost:8080/"
        },
        "id": "Vy5cOkmokXvV",
        "outputId": "24abf6d1-63e2-4df7-a009-628193423373"
      },
      "execution_count": 1,
      "outputs": [
        {
          "output_type": "stream",
          "name": "stdout",
          "text": [
            "Collecting telebot\n",
            "  Downloading telebot-0.0.5-py3-none-any.whl (4.8 kB)\n",
            "Collecting pyTelegramBotAPI (from telebot)\n",
            "  Downloading pyTelegramBotAPI-4.15.4.tar.gz (260 kB)\n",
            "\u001b[2K     \u001b[90m━━━━━━━━━━━━━━━━━━━━━━━━━━━━━━━━━━━━━━━━\u001b[0m \u001b[32m260.1/260.1 kB\u001b[0m \u001b[31m6.2 MB/s\u001b[0m eta \u001b[36m0:00:00\u001b[0m\n",
            "\u001b[?25h  Preparing metadata (setup.py) ... \u001b[?25l\u001b[?25hdone\n",
            "Requirement already satisfied: requests in /usr/local/lib/python3.10/dist-packages (from telebot) (2.31.0)\n",
            "Requirement already satisfied: charset-normalizer<4,>=2 in /usr/local/lib/python3.10/dist-packages (from requests->telebot) (3.3.2)\n",
            "Requirement already satisfied: idna<4,>=2.5 in /usr/local/lib/python3.10/dist-packages (from requests->telebot) (3.6)\n",
            "Requirement already satisfied: urllib3<3,>=1.21.1 in /usr/local/lib/python3.10/dist-packages (from requests->telebot) (2.0.7)\n",
            "Requirement already satisfied: certifi>=2017.4.17 in /usr/local/lib/python3.10/dist-packages (from requests->telebot) (2023.11.17)\n",
            "Building wheels for collected packages: pyTelegramBotAPI\n",
            "  Building wheel for pyTelegramBotAPI (setup.py) ... \u001b[?25l\u001b[?25hdone\n",
            "  Created wheel for pyTelegramBotAPI: filename=pyTelegramBotAPI-4.15.4-py3-none-any.whl size=231937 sha256=5fb7c6c8e669e55fd1a1996b11dd0f9487e058f9c2c3b10c87d270c30b681dd7\n",
            "  Stored in directory: /root/.cache/pip/wheels/37/50/a0/68519c75209358c42758e5ed2d3c9da9afda4d20a3ac393070\n",
            "Successfully built pyTelegramBotAPI\n",
            "Installing collected packages: pyTelegramBotAPI, telebot\n",
            "Successfully installed pyTelegramBotAPI-4.15.4 telebot-0.0.5\n"
          ]
        }
      ]
    },
    {
      "cell_type": "code",
      "execution_count": 3,
      "metadata": {
        "id": "CWN78pJjw6zc"
      },
      "outputs": [],
      "source": [
        "import telebot\n",
        "from telebot import types\n",
        "import pandas as pd\n",
        "from io import BytesIO\n",
        "from sklearn.metrics import accuracy_score\n",
        "from sklearn.ensemble import RandomForestClassifier\n",
        "from sklearn.model_selection import train_test_split, cross_validate\n",
        "\n",
        "# Bu yerga o'zingizning bot tokeningizni qo'shing\n",
        "bot_token = \"6749312916:AAE2Y0i3Yqyn-N7HhOJXrXcmY9YcyR64bjE\"\n",
        "\n",
        "# Botni yaratish\n",
        "bot = telebot.TeleBot(bot_token)\n",
        "\n",
        "\n",
        "# /start buyrug'i\n",
        "@bot.message_handler(commands=['start'])\n",
        "def handle_start(message):\n",
        "    user = message.from_user\n",
        "    bot.send_message(user.id, f\"Assalomu aleykum 🤗, {user.first_name}! Anti-Risk botimizga hush kelibsiz. Siz menga shaxsga doir ma'lumotlarni yuvoring va men esa sizga ushbu mijozning kredit holatini bashorat qilib yuvoraman\")\n",
        "\n",
        "\n",
        "# CSV fayl yuborilganda\n",
        "@bot.message_handler(content_types=['document'])\n",
        "def handle_csv(message):\n",
        "    user = message.from_user\n",
        "    file_info = bot.get_file(message.document.file_id)\n",
        "    downloaded_file = bot.download_file(file_info.file_path)\n",
        "    data1 = pd.read_csv('credit_risk_dataset.csv')\n",
        "\n",
        "    # Data Cleaning Ma'lumotlarga ishlov berish\n",
        "    data1['person_home_ownership'] = data1['person_home_ownership'].str.replace('RENT', '0')\n",
        "    data1['person_home_ownership'] = data1['person_home_ownership'].str.replace('OWN', '1')\n",
        "    data1['person_home_ownership'] = data1['person_home_ownership'].str.replace('MORTGAGE', '2')\n",
        "    data1['person_home_ownership'] = data1['person_home_ownership'].str.replace('OTHER', '3')\n",
        "    data1['person_home_ownership'] = data1['person_home_ownership'].astype(int)\n",
        "    data1['loan_intent'] = data1['loan_intent'].str.replace('PERSONAL', '0')\n",
        "    data1['loan_intent'] = data1['loan_intent'].str.replace('EDUCATION', '1')\n",
        "    data1['loan_intent'] = data1['loan_intent'].str.replace('MEDICAL', '2')\n",
        "    data1['loan_intent'] = data1['loan_intent'].str.replace('VENTURE', '3')\n",
        "    data1['loan_intent'] = data1['loan_intent'].str.replace('HOMEIMPROVEMENT', '4')\n",
        "    data1['loan_intent'] = data1['loan_intent'].str.replace('DEBTCONSOLIDATION', '5')\n",
        "    data1['loan_intent'] = data1['loan_intent'].astype(int)\n",
        "    data1['loan_grade'] = data1['loan_grade'].str.replace('D', '0')\n",
        "    data1['loan_grade'] = data1['loan_grade'].str.replace('B', '1')\n",
        "    data1['loan_grade'] = data1['loan_grade'].str.replace('C', '2')\n",
        "    data1['loan_grade'] = data1['loan_grade'].str.replace('A', '3')\n",
        "    data1['loan_grade'] = data1['loan_grade'].str.replace('E', '4')\n",
        "    data1['loan_grade'] = data1['loan_grade'].str.replace('F', '5')\n",
        "    data1['loan_grade'] = data1['loan_grade'].str.replace('G', '6')\n",
        "    data1['loan_grade'] = data1['loan_grade'].astype(int)\n",
        "    data1['cb_person_default_on_file'] = data1['cb_person_default_on_file'].str.replace('Y', '0')\n",
        "    data1['cb_person_default_on_file'] = data1['cb_person_default_on_file'].str.replace('N', '1')\n",
        "    data1['cb_person_default_on_file'] = data1['cb_person_default_on_file'].astype(int)\n",
        "\n",
        "    # Ma'llumotlarni ichidagi yo'q (null) qiymatlarni to'ldirib chiqamiz 0 va o'rtacha (mean) qiymatlar bilan\n",
        "    data1['loan_int_rate'].fillna(data1['loan_int_rate'].mean(), inplace=True)\n",
        "    data1['person_emp_length'].fillna(0, inplace=True)\n",
        "\n",
        "    # moljal qaratilgan ma'lumotni olamiz va keraksizlarini o'chirib tashlaymiz\n",
        "    X = data1.drop(['loan_status', 'cb_person_default_on_file'], axis=1)\n",
        "    y = data1['loan_status']\n",
        "\n",
        "    # Ma'lumotlarni train qildirish uchun bo'lib olamiz\n",
        "    X_train, X_test, y_train, y_test = train_test_split(X, y, stratify=y, test_size=0.2, random_state=33)\n",
        "\n",
        "    # model parametrlari\n",
        "    model_rf = RandomForestClassifier(n_estimators=500, oob_score=True, n_jobs=-1,\n",
        "                                      random_state=50, max_leaf_nodes=30)\n",
        "    # ma'lumotlarni modelga moslash\n",
        "    model_rf.fit(X_train, y_train)\n",
        "\n",
        "    # bashorat\n",
        "    prediction_test = model_rf.predict(X_test)\n",
        "\n",
        "    # model bashoratining aniqligini chiqaramiz\n",
        "    accuracy = accuracy_score(y_test, prediction_test)\n",
        "    file_content = BytesIO(downloaded_file)\n",
        "\n",
        "    # Use the file-like object to read the CSV\n",
        "    for_test = pd.read_csv(file_content)\n",
        "    for_test = for_test.drop([\"Unnamed: 0\"], axis=1)\n",
        "    status = int(model_rf.predict(for_test))\n",
        "\n",
        "    if status == 1:\n",
        "        bot.send_message(user.id, f\"Tabrilaymiz🥳, Ushbu kiritigan ma'lumotlar {int(accuracy*100)}% aniqlikda ijobiy chiqdi, va ushbu mijozga kredit berishingiz mumkin!\")\n",
        "    if status == 0:\n",
        "        bot.send_message(user.id, f\"Afsuski☹️, Ushbu kiritigan ma'lumotlar {int(accuracy*100)}% aniqlikda salbiy chiqdi, va ushbu mijozga kredit berish hafli bo'lishi mumkin!\")\n",
        "\n",
        "\n",
        "\n",
        "# Pollingni boshlash\n",
        "bot.polling(none_stop=True)\n"
      ]
    },
    {
      "cell_type": "code",
      "source": [],
      "metadata": {
        "id": "a9RBmisskqec"
      },
      "execution_count": null,
      "outputs": []
    }
  ]
}